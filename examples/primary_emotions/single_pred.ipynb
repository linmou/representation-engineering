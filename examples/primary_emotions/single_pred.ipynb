{
 "cells": [
  {
   "cell_type": "code",
   "execution_count": 6,
   "metadata": {},
   "outputs": [
    {
     "name": "stderr",
     "output_type": "stream",
     "text": [
      "rep-reading is already registered. Overwriting pipeline for task rep-reading...\n",
      "rep-control is already registered. Overwriting pipeline for task rep-control...\n",
      "rep-reading&prob-calc is already registered. Overwriting pipeline for task rep-reading&prob-calc...\n"
     ]
    },
    {
     "name": "stdout",
     "output_type": "stream",
     "text": [
      "The autoreload extension is already loaded. To reload it, use:\n",
      "  %reload_ext autoreload\n"
     ]
    }
   ],
   "source": [
    "%load_ext autoreload\n",
    "%autoreload 2"
   ]
  },
  {
   "cell_type": "code",
   "execution_count": 4,
   "metadata": {},
   "outputs": [
    {
     "name": "stderr",
     "output_type": "stream",
     "text": [
      "rep-reading is already registered. Overwriting pipeline for task rep-reading...\n",
      "rep-control is already registered. Overwriting pipeline for task rep-control...\n",
      "rep-reading&prob-calc is already registered. Overwriting pipeline for task rep-reading&prob-calc...\n"
     ]
    },
    {
     "data": {
      "application/vnd.jupyter.widget-view+json": {
       "model_id": "92d1746c2681496193b1a68b8ab1ca55",
       "version_major": 2,
       "version_minor": 0
      },
      "text/plain": [
       "Loading checkpoint shards:   0%|          | 0/3 [00:00<?, ?it/s]"
      ]
     },
     "metadata": {},
     "output_type": "display_data"
    }
   ],
   "source": [
    "from transformers import pipeline\n",
    "from transformers import AutoModelForCausalLM, AutoTokenizer\n",
    "import torch\n",
    "import numpy as np\n",
    "\n",
    "from repre_read_prob_calc import load_model_tokenizer, primary_emotions_concept_dataset, all_emotion_rep_reader, Negative_SET\n",
    "from eval_dataloader import EvalDatasets\n",
    "from repe import repe_pipeline_registry\n",
    "import pickle\n",
    "repe_pipeline_registry()\n",
    "\n",
    "emotions = [\"happiness\",] #\"sadness\", \"anger\", \"fear\", \"disgust\", \"surprise\"\n",
    "# emotions = [\"stress\"]\n",
    "data_dir = \"/home/jjl7137/representation-engineering/data/emotions\"\n",
    "model_name_or_path = \"meta-llama/Llama-2-13b-chat-hf\"\n",
    "user_tag = \"[INST]\"\n",
    "assistant_tag = \"[/INST]\"\n",
    "\n",
    "model,tokenizer = load_model_tokenizer(model_name_or_path,user_tag=user_tag, \n",
    "\n",
    "                                        assistant_tag=assistant_tag,\n",
    "                                        expand_vocab=True)\n",
    "data = primary_emotions_concept_dataset(data_dir, user_tag=user_tag, \n",
    "                                            assistant_tag=assistant_tag,\n",
    "                                            )\n",
    "\n",
    "rep_reading_pipeline = pipeline( \"rep-reading\", model=model, tokenizer=tokenizer)\n",
    "prob_cal_pipeline = pipeline( \"rep-reading&prob-calc\", model=model, tokenizer=tokenizer, user_tag=user_tag, assistant_tag=assistant_tag)\n",
    "\n"
   ]
  },
  {
   "cell_type": "code",
   "execution_count": 7,
   "metadata": {},
   "outputs": [
    {
     "name": "stderr",
     "output_type": "stream",
     "text": [
      "  0%|          | 0/1 [00:00<?, ?it/s]"
     ]
    },
    {
     "name": "stderr",
     "output_type": "stream",
     "text": [
      "100%|██████████| 1/1 [00:23<00:00, 23.14s/it]"
     ]
    },
    {
     "name": "stdout",
     "output_type": "stream",
     "text": [
      "{-1: 0.9901477832512315, -2: 0.9802955665024631, -3: 0.9852216748768473, -4: 0.9852216748768473, -5: 0.9852216748768473, -6: 0.9901477832512315, -7: 0.9901477832512315, -8: 0.9901477832512315, -9: 0.9901477832512315, -10: 0.9901477832512315, -11: 0.9901477832512315, -12: 0.9901477832512315, -13: 0.9901477832512315, -14: 0.9901477832512315, -15: 0.9950738916256158, -16: 0.9901477832512315, -17: 0.9950738916256158, -18: 1.0, -19: 0.9950738916256158, -20: 0.9950738916256158, -21: 0.9950738916256158, -22: 0.9950738916256158, -23: 0.9901477832512315, -24: 0.9901477832512315, -25: 0.9802955665024631, -26: 0.9507389162561576, -27: 0.9359605911330049, -28: 0.8866995073891626, -29: 0.6551724137931034, -30: 0.5320197044334976, -31: 0.5467980295566502}\n"
     ]
    },
    {
     "name": "stderr",
     "output_type": "stream",
     "text": [
      "\n"
     ]
    },
    {
     "data": {
      "text/plain": [
       "[{'logits': tensor([[[-2.2246e+00,  4.9414e+00,  9.0186e-01,  ..., -1.6455e+00,\n",
       "            -1.6611e+00,  1.2236e-03],\n",
       "           [-1.9150e+00, -2.8184e+00,  3.4004e+00,  ..., -9.7949e-01,\n",
       "             1.8372e-01, -1.0801e+00],\n",
       "           [-5.2266e+00, -6.1836e+00,  4.2500e+00,  ..., -3.4546e-01,\n",
       "             2.2812e+00,  9.1260e-01],\n",
       "           ...,\n",
       "           [-3.9746e+00, -2.5547e+00,  5.7812e+00,  ..., -1.0996e+00,\n",
       "            -5.1221e-01, -2.7466e-01],\n",
       "           [-5.8789e+00, -5.9258e+00,  2.7383e+00,  ..., -1.3906e+00,\n",
       "             1.7021e+00, -1.2344e+00],\n",
       "           [-3.8477e+00, -4.5586e+00,  3.9961e+00,  ..., -3.2910e+00,\n",
       "             1.1709e+00, -2.0723e+00]]]),\n",
       "  'input_ids': tensor([[    1, 32000, 29871, 10987,   278,  3234,   310,   278,  2183, 24655,\n",
       "             297,   278,  2183, 10159,  9228, 29889,   285, 29898, 29916, 29897,\n",
       "             353, 29871, 29946, 29916,   448, 29871, 29945, 29892,   330, 29898,\n",
       "           29916, 29897,   353, 29871, 29906, 29916, 29985, 29906,   448, 29871,\n",
       "           29946, 29916,   718, 29871, 29906,   297,   796, 29918, 29947, 29961,\n",
       "           29916,  1822, 29871, 32001,   584,   673, 29901, 29871]]),\n",
       "  'attention_mask': tensor([[1, 1, 1, 1, 1, 1, 1, 1, 1, 1, 1, 1, 1, 1, 1, 1, 1, 1, 1, 1, 1, 1, 1, 1,\n",
       "           1, 1, 1, 1, 1, 1, 1, 1, 1, 1, 1, 1, 1, 1, 1, 1, 1, 1, 1, 1, 1, 1, 1, 1,\n",
       "           1, 1, 1, 1, 1, 1, 1, 1, 1, 1]]),\n",
       "  -1: array([2.9252818], dtype=float32),\n",
       "  -2: array([2.6976836], dtype=float32),\n",
       "  -3: array([0.5036339], dtype=float32),\n",
       "  -4: array([-1.4916105], dtype=float32),\n",
       "  -5: array([-0.17831732], dtype=float32),\n",
       "  -6: array([-0.23642185], dtype=float32),\n",
       "  -7: array([-0.13470924], dtype=float32),\n",
       "  -8: array([-0.3289299], dtype=float32),\n",
       "  -9: array([0.9439521], dtype=float32),\n",
       "  -10: array([0.5873664], dtype=float32),\n",
       "  -11: array([-0.03569574], dtype=float32),\n",
       "  -12: array([-0.5017215], dtype=float32),\n",
       "  -13: array([-0.6019426], dtype=float32),\n",
       "  -14: array([1.5556114], dtype=float32),\n",
       "  -15: array([1.5076108], dtype=float32),\n",
       "  -16: array([1.0707021], dtype=float32),\n",
       "  -17: array([0.64350677], dtype=float32),\n",
       "  -18: array([0.20511687], dtype=float32),\n",
       "  -19: array([-0.84950614], dtype=float32),\n",
       "  -20: array([-1.1139848], dtype=float32),\n",
       "  -21: array([-1.483696], dtype=float32),\n",
       "  -22: array([-0.9449062], dtype=float32),\n",
       "  -23: array([1.1737221], dtype=float32),\n",
       "  -24: array([-1.4647528], dtype=float32),\n",
       "  -25: array([0.9190725], dtype=float32),\n",
       "  -26: array([0.39906028], dtype=float32),\n",
       "  -27: array([0.54504067], dtype=float32),\n",
       "  -28: array([0.32904324], dtype=float32),\n",
       "  -29: array([0.22473471], dtype=float32),\n",
       "  -30: array([-0.03444135], dtype=float32),\n",
       "  -31: array([-0.30589607], dtype=float32),\n",
       "  'ans_probabilities': [(9.212619261234067e-06,\n",
       "    [8.470201282761991e-05, 0.3715716600418091, 0.29271623492240906])],\n",
       "  'ans_ids': [tensor([  584,   673, 29901, 29871])]}]"
      ]
     },
     "execution_count": 7,
     "metadata": {},
     "output_type": "execute_result"
    }
   ],
   "source": [
    "rep_token = -1\n",
    "hidden_layers = list(range(-1, -model.config.num_hidden_layers+8, -1))\n",
    "n_difference = 1\n",
    "direction_method = 'pca'\n",
    "emotion_rep_readers = all_emotion_rep_reader(data, emotions, rep_reading_pipeline, hidden_layers, rep_token, n_difference, direction_method, save_path=None)\n"
   ]
  },
  {
   "cell_type": "code",
   "execution_count": 45,
   "metadata": {},
   "outputs": [
    {
     "name": "stdout",
     "output_type": "stream",
     "text": [
      " ans_prob for 0 1.7302425548811166e-12,  [0.005117637570947409, 0.00017221372399944812, 0.5250305533409119, 0.8841926455497742, 0.0785360261797905, 0.9905818700790405, 0.10126429796218872, 0.5580725073814392, 0.029568057507276535, 0.9951294660568237, 0.0326911024749279]\n",
      "emotion activation [3.4092512]\n",
      " ans_prob for 1 2.1030777710525594e-10,  [0.030863303691148758, 0.00016635363863315433, 0.8017574548721313, 0.65041184425354, 0.10002616792917252, 0.9948686361312866, 0.17692667245864868, 0.9882069230079651, 0.03440209850668907, 0.9932413101196289, 0.13212618231773376]\n",
      "emotion activation [4.5978045]\n",
      " ans_prob for 2 2.3785892705448794e-12,  [0.1721416860818863, 7.234346867335262e-06, 0.6064082384109497, 0.8945286870002747, 0.1118115782737732, 0.9931209683418274, 0.012580646201968193, 0.8493248820304871, 0.05014817416667938, 0.9943251013755798, 0.05951486527919769]\n",
      "emotion activation [5.3950386]\n"
     ]
    }
   ],
   "source": [
    "query = f'{user_tag} Find the product of the given polynomials in the given polynomial ring. f(x) = 4x - 5, g(x) = 2x^2 - 4x + 2 in Z_8[x]. {assistant_tag}: Answer: '\n",
    "options = [\"9x^2 + 2x + 5\", \"6x^2 + 4x + 6\", \"3x^2 + 9x + 9\" ]\n",
    "answers = []\n",
    "for opt in options:\n",
    "    query_opt = query + opt \n",
    "    ans = prob_cal_pipeline([query_opt], hidden_layers=hidden_layers, rep_reader=emotion_rep_readers['happiness'],)\n",
    "    answers.append(ans)\n",
    "for i in range(len(options)):\n",
    "    sensible_ans_prob = answers[i][0]['ans_probabilities'][0][1][3:]\n",
    "    print(f\" ans_prob for {i} {np.prod(sensible_ans_prob)},  {sensible_ans_prob}\") \n",
    "    print(f\"emotion activation {answers[i][0][-1]}\")"
   ]
  },
  {
   "cell_type": "code",
   "execution_count": 46,
   "metadata": {},
   "outputs": [
    {
     "name": "stdout",
     "output_type": "stream",
     "text": [
      " ans_prob for 0 9.198881928392068e-10,  [0.007419365458190441, 0.009770466014742851, 0.6500614881515503, 0.7654543519020081, 0.15824198722839355, 0.9789830446243286, 0.13375739753246307, 0.32320162653923035, 0.07950332760810852, 0.9726983308792114, 0.0492410771548748]\n",
      "emotion activation [6.325507]\n",
      " ans_prob for 1 1.1987674726580963e-08,  [0.01894601434469223, 0.009419870562851429, 0.6829776763916016, 0.5715529322624207, 0.21114540100097656, 0.9805228114128113, 0.12242243438959122, 0.8572435975074768, 0.07559692859649658, 0.9658457636833191, 0.1084657609462738]\n",
      "emotion activation [6.7429357]\n",
      " ans_prob for 2 1.2447629800598262e-09,  [0.05790369212627411, 0.0016516189789399505, 0.6189837455749512, 0.7823911905288696, 0.201196551322937, 0.9783340692520142, 0.040849719196558, 0.725629448890686, 0.08525556325912476, 0.9685335755348206, 0.055785104632377625]\n",
      "emotion activation [7.4089475]\n"
     ]
    }
   ],
   "source": [
    "query = f'{Negative_SET[0]} {user_tag} Find the product of the given polynomials in the given polynomial ring. f(x) = 4x - 5, g(x) = 2x^2 - 4x + 2 in Z_8[x]. {assistant_tag}: Answer: '\n",
    "options = [\"9x^2 + 2x + 5\", \"6x^2 + 4x + 6\", \"3x^2 + 9x + 9\" ]\n",
    "answers = []\n",
    "for opt in options:\n",
    "    query_opt = query + opt \n",
    "    ans = prob_cal_pipeline([query_opt], hidden_layers=hidden_layers, rep_reader=emotion_rep_readers['happiness'],)\n",
    "    answers.append(ans)\n",
    "for i in range(len(options)):\n",
    "    sensible_ans_prob = answers[i][0]['ans_probabilities'][0][1][3:]\n",
    "    print(f\" ans_prob for {i} {np.prod(sensible_ans_prob)},  {sensible_ans_prob}\") \n",
    "    print(f\"emotion activation {answers[i][0][-1]}\")"
   ]
  },
  {
   "cell_type": "code",
   "execution_count": 48,
   "metadata": {},
   "outputs": [
    {
     "name": "stdout",
     "output_type": "stream",
     "text": [
      "ans_prob for 0 1.6662021647325175e-11,  [0.00630529411137104, 0.0014391421573236585, 0.5832774043083191, 0.8721434473991394, 0.06256268173456192, 0.9853748083114624, 0.11944256722927094, 0.4053211808204651, 0.03721163794398308, 0.9912382960319519, 0.03278864547610283]\n",
      "emotion activation [4.414929]\n",
      "ans_prob for 1 8.595174872086112e-10,  [0.019421672448515892, 0.0013006137451156974, 0.8321313261985779, 0.6957257986068726, 0.08910511434078217, 0.9889485836029053, 0.13578875362873077, 0.9791204929351807, 0.04125850275158882, 0.9876981377601624, 0.12310502678155899]\n",
      "emotion activation [5.210078]\n",
      "ans_prob for 2 1.250535069768488e-11,  [0.06831997632980347, 4.680745041696355e-05, 0.7570733428001404, 0.8403409123420715, 0.10112456232309341, 0.9856138825416565, 0.02825900726020336, 0.8918574452400208, 0.049243953078985214, 0.989198625087738, 0.05023281276226044]\n",
      "emotion activation [6.387565]\n"
     ]
    }
   ],
   "source": [
    "query = f'{Negative_SET[1]} {user_tag} Find the product of the given polynomials in the given polynomial ring. f(x) = 4x - 5, g(x) = 2x^2 - 4x + 2 in Z_8[x]. {assistant_tag}: Answer: '\n",
    "options = [\"9x^2 + 2x + 5\", \"6x^2 + 4x + 6\", \"3x^2 + 9x + 9\" ]\n",
    "answers = []\n",
    "for opt in options:\n",
    "    query_opt = query + opt \n",
    "    ans = prob_cal_pipeline([query_opt], hidden_layers=hidden_layers, rep_reader=emotion_rep_readers['happiness'],)\n",
    "    answers.append(ans) \n",
    "for i in range(len(options)):\n",
    "    sensible_ans_prob = answers[i][0]['ans_probabilities'][0][1][3:]\n",
    "    print(f\"ans_prob for {i} {np.prod(sensible_ans_prob)},  {sensible_ans_prob}\")\n",
    "    print(f\"emotion activation {answers[i][0][-1]}\")"
   ]
  },
  {
   "cell_type": "code",
   "execution_count": 51,
   "metadata": {},
   "outputs": [
    {
     "name": "stdout",
     "output_type": "stream",
     "text": [
      "ans_prob for 0 2.344381710599238e-10,  [0.005027974955737591, 0.002399844117462635, 0.6534082293510437, 0.7291648983955383, 0.22077515721321106, 0.9684038162231445, 0.14481736719608307, 0.2954990863800049, 0.11341682821512222, 0.9693379402160645, 0.04054204374551773]\n",
      "emotion activation [6.67794]\n",
      "ans_prob for 1 5.126062884233865e-09,  [0.021670565009117126, 0.0020159718114882708, 0.6762185096740723, 0.5519580841064453, 0.28222906589508057, 0.9722426533699036, 0.1388489305973053, 0.7872259616851807, 0.09829504042863846, 0.9663780331611633, 0.11034154891967773]\n",
      "emotion activation [6.925309]\n",
      "ans_prob for 2 3.6472518079703694e-10,  [0.04960441589355469, 0.0005665544886142015, 0.6241611838340759, 0.7616052627563477, 0.26059600710868835, 0.974222719669342, 0.03303823247551918, 0.6230694055557251, 0.1150452271103859, 0.9598207473754883, 0.047308485954999924]\n",
      "emotion activation [7.53197]\n"
     ]
    }
   ],
   "source": [
    "query = f' You are a really happy people. {user_tag} Find the product of the given polynomials in the given polynomial ring. f(x) = 4x - 5, g(x) = 2x^2 - 4x + 2 in Z_8[x]. {assistant_tag}: Answer: '\n",
    "options = [\"9x^2 + 2x + 5\", \"6x^2 + 4x + 6\", \"3x^2 + 9x + 9\" ]\n",
    "answers = []\n",
    "for opt in options:\n",
    "    query_opt = query + opt \n",
    "    ans = prob_cal_pipeline([query_opt], hidden_layers=hidden_layers, rep_reader=emotion_rep_readers['happiness'],)\n",
    "    answers.append(ans) \n",
    "for i in range(len(options)):\n",
    "    sensible_ans_prob = answers[i][0]['ans_probabilities'][0][1][3:]\n",
    "    print(f\"ans_prob for {i} {np.prod(sensible_ans_prob)},  {sensible_ans_prob}\")\n",
    "    print(f\"emotion activation {answers[i][0][-1]}\")"
   ]
  }
 ],
 "metadata": {
  "kernelspec": {
   "display_name": "jjl",
   "language": "python",
   "name": "python3"
  },
  "language_info": {
   "codemirror_mode": {
    "name": "ipython",
    "version": 3
   },
   "file_extension": ".py",
   "mimetype": "text/x-python",
   "name": "python",
   "nbconvert_exporter": "python",
   "pygments_lexer": "ipython3",
   "version": "3.9.18"
  }
 },
 "nbformat": 4,
 "nbformat_minor": 2
}
